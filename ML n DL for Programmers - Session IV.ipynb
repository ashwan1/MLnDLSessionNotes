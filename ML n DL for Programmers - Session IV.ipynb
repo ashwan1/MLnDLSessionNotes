{
 "cells": [
  {
   "cell_type": "markdown",
   "metadata": {},
   "source": [
    "# ML n DL for Programmers\n",
    "-------------------------------\n",
    "### Session IV"
   ]
  },
  {
   "cell_type": "markdown",
   "metadata": {},
   "source": [
    "## Improving input tensor - Embeddings\n",
    "* One hot encoding is not an ideal way to represent words/characters.\n",
    "* They don't capture semantic relationship.\n"
   ]
  },
  {
   "cell_type": "markdown",
   "metadata": {},
   "source": [
    "## First method\n",
    "* Use embedding layer provided by keras.\n",
    "* This will be **version 4.**"
   ]
  },
  {
   "cell_type": "code",
   "execution_count": null,
   "metadata": {},
   "outputs": [],
   "source": [
    "# Load training data\n",
    "import gensim.downloader as api\n",
    "from smart_open import smart_open\n",
    "\n",
    "text8_path = api.load(\"text8\", return_path=True)\n",
    "text8_data = \"\"\n",
    "with smart_open(text8_path, 'rb') as file:\n",
    "    for line in file:\n",
    "        line = line.decode('utf8')\n",
    "        text8_data += line\n",
    "text8_data = text8_data.strip()\n",
    "text8_data = text8_data[:1000000]\n",
    "print(f'Lenght of Corpus: {len(text8_data)}')\n",
    "\n",
    "# Prepare dictionaries\n",
    "chars = sorted(list(set(text8_data)))\n",
    "char_indices = dict((c, i) for i, c in enumerate(chars))\n",
    "indices_char = dict((i, c) for i, c in enumerate(chars))\n",
    "print(f'unique chars: {len(chars)}')"
   ]
  },
  {
   "cell_type": "code",
   "execution_count": null,
   "metadata": {},
   "outputs": [],
   "source": [
    "import numpy as np\n",
    "from tqdm import tqdm_notebook as tqdm\n",
    "\n",
    "# prepare integer label for our text8_data\n",
    "text8_data = [char_indices[char] for char in tqdm(text8_data)]\n",
    "\n",
    "# Prepare training data\n",
    "SEQUENCE_LENGTH = 30\n",
    "STEP = 3\n",
    "sentences = []\n",
    "next_chars = []\n",
    "for i in tqdm(range(0, len(text8_data)-SEQUENCE_LENGTH, STEP)):\n",
    "    sentences.append(text8_data[i:i+SEQUENCE_LENGTH])\n",
    "    next_chars.append(text8_data[i+SEQUENCE_LENGTH])\n",
    "\n",
    "sentences = np.array(sentences)\n",
    "next_chars = np.array(next_chars)\n",
    "\n",
    "print(f'number of training sentences: {len(sentences)}')\n",
    "print(f'2nd sentence: {sentences[2]}')\n",
    "print(f'char after 2nd sentence: {next_chars[2]}')\n",
    "print(f'3rd sentence: {sentences[3]}')\n",
    "print(f'shape of sentences: {sentences.shape}')\n",
    "print(f'shape of next_chars: {next_chars.shape}')"
   ]
  },
  {
   "cell_type": "code",
   "execution_count": null,
   "metadata": {},
   "outputs": [],
   "source": [
    "from keras.models import Sequential\n",
    "from keras.layers import Embedding, LSTM, Dense, BatchNormalization, Dropout\n",
    "\n",
    "model = Sequential()\n",
    "model.add(Embedding(len(chars), 20, input_length=SEQUENCE_LENGTH, name='input_layer'))\n",
    "model.add(LSTM(150, return_sequences=True))\n",
    "model.add(BatchNormalization())\n",
    "model.add(Dropout(0.3))\n",
    "model.add(LSTM(100))\n",
    "model.add(Dense(100, activation='relu'))\n",
    "model.add(Dropout(0.3))\n",
    "model.add(Dense(40, activation='relu'))\n",
    "model.add(BatchNormalization())\n",
    "model.add(Dense(len(chars), activation='softmax', name='output_layer'))\n",
    "\n",
    "model.summary()"
   ]
  },
  {
   "cell_type": "code",
   "execution_count": null,
   "metadata": {},
   "outputs": [],
   "source": [
    "from keras.callbacks import EarlyStopping, ReduceLROnPlateau\n",
    "from keras.utils import to_categorical\n",
    "\n",
    "early_stop = EarlyStopping(patience=5)\n",
    "reduce_lr = ReduceLROnPlateau(factor=0.2, patience=3, verbose=1)\n",
    "callbacks = [early_stop, reduce_lr]\n",
    "\n",
    "# Convert labels (integers to categorical data), basically one-hot encode labels\n",
    "next_chars = to_categorical(next_chars, len(chars))\n",
    "\n",
    "# Train \n",
    "model.compile(loss='categorical_crossentropy', optimizer='adam', metrics=['accuracy'])\n",
    "history = model.fit(sentences, next_chars, validation_split=0.1, batch_size=64, epochs=50, callbacks=callbacks, shuffle=True)\n",
    "\n",
    "#save model and its history\n",
    "model.save('models/predictive_keyboard_v4.h5')\n",
    "pickle.dump(history.history, open('models/history_pk_v4.p', 'wb'))"
   ]
  }
 ],
 "metadata": {
  "kernelspec": {
   "display_name": "Python 3",
   "language": "python",
   "name": "python3"
  },
  "language_info": {
   "codemirror_mode": {
    "name": "ipython",
    "version": 3
   },
   "file_extension": ".py",
   "mimetype": "text/x-python",
   "name": "python",
   "nbconvert_exporter": "python",
   "pygments_lexer": "ipython3",
   "version": "3.6.6"
  }
 },
 "nbformat": 4,
 "nbformat_minor": 2
}
