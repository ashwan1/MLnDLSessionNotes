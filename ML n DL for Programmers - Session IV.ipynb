{
 "cells": [
  {
   "cell_type": "markdown",
   "metadata": {
    "slideshow": {
     "slide_type": "slide"
    }
   },
   "source": [
    "# ML n DL for Programmers\n",
    "-------------------------------\n",
    "### Session IV"
   ]
  },
  {
   "cell_type": "markdown",
   "metadata": {
    "slideshow": {
     "slide_type": "slide"
    }
   },
   "source": [
    "## Improving input tensor - Embeddings\n",
    "![embedding and nn](images/embeddingandNN.jpeg)\n",
    "* One hot encoding is not an ideal way to represent words/characters.\n",
    "* They don't capture semantic relationship.\n"
   ]
  },
  {
   "cell_type": "markdown",
   "metadata": {
    "slideshow": {
     "slide_type": "slide"
    }
   },
   "source": [
    "## First method\n",
    "* Use embedding layer provided by keras.\n",
    "* This will be **version 4.**"
   ]
  },
  {
   "cell_type": "code",
   "execution_count": null,
   "metadata": {
    "slideshow": {
     "slide_type": "slide"
    }
   },
   "outputs": [],
   "source": [
    "# Load training data\n",
    "import gensim.downloader as api\n",
    "from smart_open import smart_open\n",
    "\n",
    "text8_path = api.load(\"text8\", return_path=True)\n",
    "text8_data = \"\"\n",
    "with smart_open(text8_path, 'rb') as file:\n",
    "    for line in file:\n",
    "        line = line.decode('utf8')\n",
    "        text8_data += line\n",
    "text8_data = text8_data.strip()\n",
    "text8_data = text8_data[:1000000]\n",
    "print(f'Lenght of Corpus: {len(text8_data)}')\n",
    "\n",
    "# Prepare dictionaries\n",
    "chars = sorted(list(set(text8_data)))\n",
    "char_indices = dict((c, i) for i, c in enumerate(chars))\n",
    "indices_char = dict((i, c) for i, c in enumerate(chars))\n",
    "print(f'unique chars: {len(chars)}')"
   ]
  },
  {
   "cell_type": "code",
   "execution_count": null,
   "metadata": {
    "slideshow": {
     "slide_type": "slide"
    }
   },
   "outputs": [],
   "source": [
    "import numpy as np\n",
    "from tqdm import tqdm_notebook as tqdm\n",
    "\n",
    "# prepare integer label for our text8_data\n",
    "text8_data = [char_indices[char] for char in tqdm(text8_data)]\n",
    "\n",
    "# Prepare training data\n",
    "SEQUENCE_LENGTH = 30\n",
    "STEP = 3\n",
    "sentences = []\n",
    "next_chars = []\n",
    "for i in tqdm(range(0, len(text8_data)-SEQUENCE_LENGTH, STEP)):\n",
    "    sentences.append(text8_data[i:i+SEQUENCE_LENGTH])\n",
    "    next_chars.append(text8_data[i+SEQUENCE_LENGTH])\n",
    "\n",
    "sentences = np.array(sentences)\n",
    "next_chars = np.array(next_chars)\n",
    "\n",
    "print(f'number of training sentences: {len(sentences)}')\n",
    "print(f'2nd sentence: {sentences[2]}')\n",
    "print(f'char after 2nd sentence: {next_chars[2]}')\n",
    "print(f'3rd sentence: {sentences[3]}')\n",
    "print(f'shape of sentences: {sentences.shape}')\n",
    "print(f'shape of next_chars: {next_chars.shape}')"
   ]
  },
  {
   "cell_type": "code",
   "execution_count": null,
   "metadata": {
    "deletable": false,
    "editable": false,
    "run_control": {
     "frozen": true
    },
    "slideshow": {
     "slide_type": "slide"
    }
   },
   "outputs": [],
   "source": [
    "from keras.models import Sequential\n",
    "from keras.layers import Embedding, LSTM, Dense, BatchNormalization, Dropout\n",
    "\n",
    "model = Sequential()\n",
    "model.add(Embedding(len(chars), 5, input_length=SEQUENCE_LENGTH, name='input_layer'))\n",
    "model.add(LSTM(150, return_sequences=True))\n",
    "model.add(BatchNormalization())\n",
    "model.add(Dropout(0.3))\n",
    "model.add(LSTM(100))\n",
    "model.add(Dense(100, activation='relu'))\n",
    "model.add(Dropout(0.3))\n",
    "model.add(Dense(40, activation='relu'))\n",
    "model.add(BatchNormalization())\n",
    "model.add(Dense(len(chars), activation='softmax', name='output_layer'))\n",
    "\n",
    "model.summary()"
   ]
  },
  {
   "cell_type": "code",
   "execution_count": null,
   "metadata": {
    "deletable": false,
    "editable": false,
    "run_control": {
     "frozen": true
    },
    "slideshow": {
     "slide_type": "slide"
    }
   },
   "outputs": [],
   "source": [
    "from keras.callbacks import EarlyStopping, ReduceLROnPlateau\n",
    "from keras.utils import to_categorical\n",
    "import pickle\n",
    "\n",
    "early_stop = EarlyStopping(patience=5)\n",
    "reduce_lr = ReduceLROnPlateau(factor=0.2, patience=3, verbose=1)\n",
    "callbacks = [early_stop, reduce_lr]\n",
    "\n",
    "# Convert labels (integers to categorical data), basically one-hot encode labels\n",
    "next_chars = to_categorical(next_chars, len(chars))\n",
    "\n",
    "# Train \n",
    "model.compile(loss='categorical_crossentropy', optimizer='adam', metrics=['accuracy'])\n",
    "history = model.fit(sentences, next_chars, validation_split=0.1, batch_size=64, epochs=50, callbacks=callbacks, shuffle=True)\n",
    "\n",
    "#save model and its history\n",
    "model.save('models/predictive_keyboard_v4.h5')\n",
    "pickle.dump(history.history, open('models/history_pk_v4.p', 'wb'))"
   ]
  },
  {
   "cell_type": "code",
   "execution_count": null,
   "metadata": {
    "deletable": false,
    "editable": false,
    "slideshow": {
     "slide_type": "slide"
    }
   },
   "outputs": [],
   "source": [
    "# load model back again\n",
    "from keras.models import load_model\n",
    "model = load_model('models/predictive_keyboard_v4.h5')\n",
    "history = pickle.load(open(\"models/history_pk_v4.p\", \"rb\"))"
   ]
  },
  {
   "cell_type": "code",
   "execution_count": null,
   "metadata": {
    "slideshow": {
     "slide_type": "slide"
    }
   },
   "outputs": [],
   "source": [
    "import matplotlib.pyplot as plt\n",
    "%matplotlib inline\n",
    "# plot accuracy\n",
    "plt.plot(history['acc'])\n",
    "plt.plot(history['val_acc'])\n",
    "plt.title('model accuracy')\n",
    "plt.ylabel('accuracy')\n",
    "plt.xlabel('epoch')\n",
    "plt.legend(['train', 'test'], loc='upper left');"
   ]
  },
  {
   "cell_type": "code",
   "execution_count": null,
   "metadata": {
    "slideshow": {
     "slide_type": "slide"
    }
   },
   "outputs": [],
   "source": [
    "# Prepare test data\n",
    "test_data = text8_data[-50000:]\n",
    "test_sentences = []\n",
    "test_chars = []\n",
    "for i in range(0, len(test_data)-SEQUENCE_LENGTH, STEP):\n",
    "    test_sentences.append(test_data[i:i+SEQUENCE_LENGTH])\n",
    "    test_chars.append(test_data[i+SEQUENCE_LENGTH])\n",
    "\n",
    "print(f'number of test sentences: {len(test_sentences)}')\n",
    "print(f'2nd sentence: {test_sentences[2]}')\n",
    "print(f'char after 2nd sentence: {test_chars[2]}')\n",
    "print(f'3rd sentence: {test_sentences[3]}')\n",
    "\n",
    "test_sentences = np.array(test_sentences)\n",
    "test_chars = np.array(test_chars)\n",
    "\n",
    "test_chars = to_categorical(test_chars, len(chars))\n",
    "model.evaluate(test_sentences, test_chars)"
   ]
  },
  {
   "cell_type": "code",
   "execution_count": null,
   "metadata": {
    "slideshow": {
     "slide_type": "slide"
    }
   },
   "outputs": [],
   "source": [
    "# Post processing\n",
    "import heapq\n",
    "\n",
    "\n",
    "def prepare_input(text):\n",
    "    text = [[char_indices[char] for char in text]]\n",
    "    x = np.array(text)\n",
    "    return x\n",
    "\n",
    "def sample(preds, top_n=3):\n",
    "    preds = np.asarray(preds).astype('float64')\n",
    "    preds = np.log(preds)\n",
    "    exp_preds = np.exp(preds)\n",
    "    preds = exp_preds / np.sum(exp_preds)\n",
    "    \n",
    "    return heapq.nlargest(top_n, range(len(preds)), preds.take)"
   ]
  },
  {
   "cell_type": "code",
   "execution_count": null,
   "metadata": {
    "slideshow": {
     "slide_type": "subslide"
    }
   },
   "outputs": [],
   "source": [
    "def predict_completion(text):\n",
    "    original_text = text\n",
    "    generated = text\n",
    "    completion = ''\n",
    "    while True:\n",
    "        x = prepare_input(text)\n",
    "        preds = model.predict(x, verbose=0)[0]\n",
    "        next_index = sample(preds, top_n=1)[0]\n",
    "        next_char = indices_char[next_index]\n",
    "        text = text[1:] + next_char\n",
    "        completion += next_char\n",
    "        \n",
    "        if len(original_text + completion) + 2 > len(original_text) and next_char == ' ':\n",
    "            return completion\n",
    "\n",
    "def predict_completions(text, n=3):\n",
    "    x = prepare_input(text)\n",
    "    preds = model.predict(x, verbose=0)[0]\n",
    "    next_indices = sample(preds, n)\n",
    "    return [indices_char[idx] + predict_completion(text[1:] + indices_char[idx]) for idx in next_indices]"
   ]
  },
  {
   "cell_type": "code",
   "execution_count": null,
   "metadata": {
    "slideshow": {
     "slide_type": "subslide"
    }
   },
   "outputs": [],
   "source": [
    "# Test model\n",
    "test_sent = [\"He told us a very exciting adventure story\",\n",
    "             \"She wrote him a long letter but he did not read it\",\n",
    "             \"The sky is clear black with shining stars\",\n",
    "             \"I am counting my calories yet I really want dessert\",\n",
    "             \"We need to rent a room for our party\"\n",
    "            ]\n",
    "for sent in  test_sent:\n",
    "    sent_4_NN = sent[:30].lower()\n",
    "    print(sent_4_NN)\n",
    "    print(predict_completions(sent_4_NN, 5))\n",
    "    print()"
   ]
  },
  {
   "cell_type": "markdown",
   "metadata": {
    "slideshow": {
     "slide_type": "slide"
    }
   },
   "source": [
    "## Embeddings, now for real\n",
    "\n",
    "* Dense representation of word/character, unlike one-hot encoding which is sparse representation.\n",
    "* Captures semantics in language."
   ]
  },
  {
   "cell_type": "markdown",
   "metadata": {
    "slideshow": {
     "slide_type": "slide"
    }
   },
   "source": [
    "### Many different ways:\n",
    "\n",
    "* Word2Vec\n",
    "* Glove\n",
    "* fasttext\n",
    "* WordRank\n",
    "* ULMFit\n",
    "* Elmo\n",
    "* BERT\n",
    " and many more ...."
   ]
  },
  {
   "cell_type": "markdown",
   "metadata": {
    "slideshow": {
     "slide_type": "slide"
    }
   },
   "source": [
    "## Word2Vec - As an example\n",
    "* Based on philosophy that words that often come together are often used in same context.\n",
    "\n",
    "* Two ways:\n",
    "    - Skipgram model\n",
    "    - CBOW model"
   ]
  },
  {
   "cell_type": "markdown",
   "metadata": {
    "slideshow": {
     "slide_type": "subslide"
    }
   },
   "source": [
    "## Skipgram\n",
    "\n",
    "![skipgram](images/skipgram.png)"
   ]
  },
  {
   "cell_type": "markdown",
   "metadata": {
    "slideshow": {
     "slide_type": "subslide"
    }
   },
   "source": [
    "## CBOW(Continuous Bag of Words)\n",
    "<center><img src=\"images/cbow.png\" width=\"350px\" height=\"450px\"/></center>"
   ]
  }
 ],
 "metadata": {
  "celltoolbar": "Slideshow",
  "kernelspec": {
   "display_name": "Python 3",
   "language": "python",
   "name": "python3"
  },
  "language_info": {
   "codemirror_mode": {
    "name": "ipython",
    "version": 3
   },
   "file_extension": ".py",
   "mimetype": "text/x-python",
   "name": "python",
   "nbconvert_exporter": "python",
   "pygments_lexer": "ipython3",
   "version": "3.6.6"
  }
 },
 "nbformat": 4,
 "nbformat_minor": 2
}
