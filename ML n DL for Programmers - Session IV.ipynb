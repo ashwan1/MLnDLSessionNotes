{
 "cells": [
  {
   "cell_type": "markdown",
   "metadata": {},
   "source": [
    "# ML n DL for Programmers\n",
    "-------------------------------\n",
    "### Session IV"
   ]
  },
  {
   "cell_type": "markdown",
   "metadata": {},
   "source": [
    "## Improving input tensor - Embeddings\n",
    "* One hot encoding is not an ideal way to represent words/characters.\n",
    "* They don't capture semantic relationship.\n"
   ]
  },
  {
   "cell_type": "markdown",
   "metadata": {},
   "source": [
    "## First method\n",
    "* Use embedding layer provided by keras."
   ]
  },
  {
   "cell_type": "code",
   "execution_count": 9,
   "metadata": {},
   "outputs": [
    {
     "name": "stdout",
     "output_type": "stream",
     "text": [
      "Lenght of Corpus: 1000000\n",
      "unique chars: 27\n"
     ]
    }
   ],
   "source": [
    "# Load training data\n",
    "import gensim.downloader as api\n",
    "from smart_open import smart_open\n",
    "\n",
    "text8_path = api.load(\"text8\", return_path=True)\n",
    "text8_data = \"\"\n",
    "with smart_open(text8_path, 'rb') as file:\n",
    "    for line in file:\n",
    "        line = line.decode('utf8')\n",
    "        text8_data += line\n",
    "text8_data = text8_data.strip()\n",
    "text8_data = text8_data[:1000000]\n",
    "print(f'Lenght of Corpus: {len(text8_data)}')\n",
    "\n",
    "# Prepare dictionaries\n",
    "chars = sorted(list(set(text8_data)))\n",
    "char_indices = dict((c, i) for i, c in enumerate(chars))\n",
    "indices_char = dict((i, c) for i, c in enumerate(chars))\n",
    "print(f'unique chars: {len(chars)}')"
   ]
  },
  {
   "cell_type": "code",
   "execution_count": 13,
   "metadata": {},
   "outputs": [
    {
     "data": {
      "application/vnd.jupyter.widget-view+json": {
       "model_id": "e70821151f0b4632949cf8a53bb68b66",
       "version_major": 2,
       "version_minor": 0
      },
      "text/plain": [
       "HBox(children=(IntProgress(value=0, max=1000000), HTML(value='')))"
      ]
     },
     "metadata": {},
     "output_type": "display_data"
    },
    {
     "name": "stdout",
     "output_type": "stream",
     "text": [
      "\n"
     ]
    },
    {
     "data": {
      "application/vnd.jupyter.widget-view+json": {
       "model_id": "79ef72ec4a6847188da67cad1bc3150d",
       "version_major": 2,
       "version_minor": 0
      },
      "text/plain": [
       "HBox(children=(IntProgress(value=0, max=333324), HTML(value='')))"
      ]
     },
     "metadata": {},
     "output_type": "display_data"
    },
    {
     "name": "stdout",
     "output_type": "stream",
     "text": [
      "\n",
      "number of training sentences: 333324\n",
      "2nd sentence: [9, 19, 13, 0, 15, 18, 9, 7, 9, 14, 1, 20, 5, 4, 0, 1, 19, 0, 1, 0, 20, 5, 18, 13, 0, 15, 6, 0, 1, 2]\n",
      "char after 2nd sentence: 21\n",
      "3rd sentence: [0, 15, 18, 9, 7, 9, 14, 1, 20, 5, 4, 0, 1, 19, 0, 1, 0, 20, 5, 18, 13, 0, 15, 6, 0, 1, 2, 21, 19, 5]\n"
     ]
    }
   ],
   "source": [
    "from tqdm import tqdm_notebook as tqdm\n",
    "# prepare integer label for our text8_data\n",
    "text8_data = [char_indices[char] for char in tqdm(text8_data)]\n",
    "\n",
    "# Prepare training data\n",
    "SEQUENCE_LENGTH = 30\n",
    "STEP = 3\n",
    "sentences = []\n",
    "next_chars = []\n",
    "for i in tqdm(range(0, len(text8_data)-SEQUENCE_LENGTH, STEP)):\n",
    "    sentences.append(text8_data[i:i+SEQUENCE_LENGTH])\n",
    "    next_chars.append(text8_data[i+SEQUENCE_LENGTH])\n",
    "\n",
    "print(f'number of training sentences: {len(sentences)}')\n",
    "print(f'2nd sentence: {sentences[2]}')\n",
    "print(f'char after 2nd sentence: {next_chars[2]}')\n",
    "print(f'3rd sentence: {sentences[3]}')"
   ]
  },
  {
   "cell_type": "code",
   "execution_count": 15,
   "metadata": {},
   "outputs": [
    {
     "name": "stdout",
     "output_type": "stream",
     "text": [
      "_________________________________________________________________\n",
      "Layer (type)                 Output Shape              Param #   \n",
      "=================================================================\n",
      "input_layer (Embedding)      (None, 30, 20)            540       \n",
      "_________________________________________________________________\n",
      "lstm_1 (LSTM)                (None, 30, 150)           102600    \n",
      "_________________________________________________________________\n",
      "batch_normalization_1 (Batch (None, 30, 150)           600       \n",
      "_________________________________________________________________\n",
      "dropout_1 (Dropout)          (None, 30, 150)           0         \n",
      "_________________________________________________________________\n",
      "lstm_2 (LSTM)                (None, 100)               100400    \n",
      "_________________________________________________________________\n",
      "dense_1 (Dense)              (None, 100)               10100     \n",
      "_________________________________________________________________\n",
      "dropout_2 (Dropout)          (None, 100)               0         \n",
      "_________________________________________________________________\n",
      "dense_2 (Dense)              (None, 40)                4040      \n",
      "_________________________________________________________________\n",
      "batch_normalization_2 (Batch (None, 40)                160       \n",
      "_________________________________________________________________\n",
      "output_layer (Dense)         (None, 27)                1107      \n",
      "=================================================================\n",
      "Total params: 219,547\n",
      "Trainable params: 219,167\n",
      "Non-trainable params: 380\n",
      "_________________________________________________________________\n"
     ]
    }
   ],
   "source": [
    "from keras.models import Sequential\n",
    "from keras.layers import Embedding, LSTM, Dense, BatchNormalization, Dropout\n",
    "\n",
    "model = Sequential()\n",
    "model.add(Embedding(len(chars), 20, input_length=SEQUENCE_LENGTH, name='input_layer'))\n",
    "model.add(LSTM(150, return_sequences=True))\n",
    "model.add(BatchNormalization())\n",
    "model.add(Dropout(0.3))\n",
    "model.add(LSTM(100))\n",
    "model.add(Dense(100, activation='relu'))\n",
    "model.add(Dropout(0.3))\n",
    "model.add(Dense(40, activation='relu'))\n",
    "model.add(BatchNormalization())\n",
    "model.add(Dense(len(chars), activation='softmax', name='output_layer'))\n",
    "\n",
    "model.summary()"
   ]
  },
  {
   "cell_type": "code",
   "execution_count": null,
   "metadata": {},
   "outputs": [],
   "source": [
    "from keras.callbacks import EarlyStopping, ReduceLROnPlateau\n",
    "\n",
    "early_stop = EarlyStopping(patience=5)\n",
    "reduce_lr = ReduceLROnPlateau(factor=0.2, patience=3, verbose=1)\n",
    "callbacks = [early_stop, reduce_lr]\n",
    "\n",
    "# Train \n",
    "model.compile(loss='categorical_crossentropy', optimizer='adam', metrics=['accuracy'])\n",
    "history = model.fit(input_sent, output_char, validation_split=0.1, batch_size=64, epochs=50, callbacks=callbacks, shuffle=True)\n",
    "\n",
    "#save model and its history\n",
    "model.save('models/predictive_keyboard_v2.h5')\n",
    "pickle.dump(history.history, open('models/history_pk_v2.p', 'wb'))"
   ]
  }
 ],
 "metadata": {
  "kernelspec": {
   "display_name": "Python 3",
   "language": "python",
   "name": "python3"
  },
  "language_info": {
   "codemirror_mode": {
    "name": "ipython",
    "version": 3
   },
   "file_extension": ".py",
   "mimetype": "text/x-python",
   "name": "python",
   "nbconvert_exporter": "python",
   "pygments_lexer": "ipython3",
   "version": "3.6.6"
  }
 },
 "nbformat": 4,
 "nbformat_minor": 2
}
