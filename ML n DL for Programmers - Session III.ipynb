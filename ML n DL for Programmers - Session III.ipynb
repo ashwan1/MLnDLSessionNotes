{
 "cells": [
  {
   "cell_type": "markdown",
   "metadata": {
    "slideshow": {
     "slide_type": "slide"
    }
   },
   "source": [
    "# ML n DL for Programmers\n",
    "-------------------------------\n",
    "### Session III"
   ]
  },
  {
   "cell_type": "markdown",
   "metadata": {
    "slideshow": {
     "slide_type": "slide"
    }
   },
   "source": [
    "## Recap\n",
    "\n",
    "* Summary of v1:\n",
    "    ![pk_v1](images/pkv1.JPG)"
   ]
  },
  {
   "cell_type": "markdown",
   "metadata": {
    "slideshow": {
     "slide_type": "subslide"
    }
   },
   "source": [
    "* Trained on 29991 samples, validated on 3333 samples\n",
    "* **_Total failure_**\n",
    "    ![pk_V1_Accuracy](images/pkv1accuracy.JPG)"
   ]
  },
  {
   "cell_type": "markdown",
   "metadata": {
    "slideshow": {
     "slide_type": "slide"
    }
   },
   "source": [
    "## Bit of thinking\n",
    "\n",
    "#### Why our model overfitted?"
   ]
  },
  {
   "cell_type": "markdown",
   "metadata": {
    "slideshow": {
     "slide_type": "fragment"
    }
   },
   "source": [
    "* Trainable params of model is much greater than number of training samples."
   ]
  },
  {
   "cell_type": "markdown",
   "metadata": {
    "slideshow": {
     "slide_type": "fragment"
    }
   },
   "source": [
    "* No regularization was used."
   ]
  },
  {
   "cell_type": "markdown",
   "metadata": {
    "slideshow": {
     "slide_type": "slide"
    }
   },
   "source": [
    "## Time for v2\n",
    "* Decrease number of parameters.\n",
    "* Increase number of training samples.\n",
    "* Add dropout to regularize.\n",
    "* Do batch normalization. "
   ]
  },
  {
   "cell_type": "code",
   "execution_count": 1,
   "metadata": {
    "slideshow": {
     "slide_type": "subslide"
    }
   },
   "outputs": [
    {
     "name": "stdout",
     "output_type": "stream",
     "text": [
      "Lenght of Corpus: 1000000\n",
      "unique chars: 27\n"
     ]
    }
   ],
   "source": [
    "# Load training data\n",
    "import gensim.downloader as api\n",
    "from smart_open import smart_open\n",
    "\n",
    "text8_path = api.load(\"text8\", return_path=True)\n",
    "text8_data = \"\"\n",
    "with smart_open(text8_path, 'rb') as file:\n",
    "    for line in file:\n",
    "        line = line.decode('utf8')\n",
    "        text8_data += line\n",
    "text8_data = text8_data.strip()\n",
    "text8_data = text8_data[:1000000]\n",
    "print(f'Lenght of Corpus: {len(text8_data)}')\n",
    "\n",
    "# Prepare dictionaries\n",
    "chars = sorted(list(set(text8_data)))\n",
    "char_indices = dict((c, i) for i, c in enumerate(chars))\n",
    "indices_char = dict((i, c) for i, c in enumerate(chars))\n",
    "print(f'unique chars: {len(chars)}')"
   ]
  },
  {
   "cell_type": "code",
   "execution_count": 2,
   "metadata": {
    "slideshow": {
     "slide_type": "subslide"
    }
   },
   "outputs": [
    {
     "name": "stdout",
     "output_type": "stream",
     "text": [
      "number of training sentences: 333324\n",
      "2nd sentence: ism originated as a term of ab\n",
      "char after 2nd sentence: u\n",
      "3rd sentence:  originated as a term of abuse\n"
     ]
    }
   ],
   "source": [
    "# Prepare training data\n",
    "SEQUENCE_LENGTH = 30\n",
    "STEP = 3\n",
    "sentences = []\n",
    "next_chars = []\n",
    "for i in range(0, len(text8_data)-SEQUENCE_LENGTH, STEP):\n",
    "    sentences.append(text8_data[i:i+SEQUENCE_LENGTH])\n",
    "    next_chars.append(text8_data[i+SEQUENCE_LENGTH])\n",
    "\n",
    "print(f'number of training sentences: {len(sentences)}')\n",
    "print(f'2nd sentence: {sentences[2]}')\n",
    "print(f'char after 2nd sentence: {next_chars[2]}')\n",
    "print(f'3rd sentence: {sentences[3]}')"
   ]
  },
  {
   "cell_type": "code",
   "execution_count": 3,
   "metadata": {
    "slideshow": {
     "slide_type": "subslide"
    }
   },
   "outputs": [
    {
     "name": "stderr",
     "output_type": "stream",
     "text": [
      "333324it [00:02, 165193.58it/s]"
     ]
    },
    {
     "name": "stdout",
     "output_type": "stream",
     "text": [
      "shape of input_sent tensor: (333324, 30, 27)\n",
      "shape of output_char matrix: (333324, 27)\n"
     ]
    },
    {
     "name": "stderr",
     "output_type": "stream",
     "text": [
      "\n"
     ]
    }
   ],
   "source": [
    "import numpy as np\n",
    "from tqdm import tqdm\n",
    "import pickle\n",
    "\n",
    "input_sent = np.zeros((len(sentences), SEQUENCE_LENGTH, len(chars)), dtype=np.bool)\n",
    "output_char = np.zeros((len(sentences), len(chars)), dtype=np.bool)\n",
    "for i, sentence in tqdm(enumerate(sentences)):\n",
    "    for j, char in enumerate(sentence):\n",
    "        input_sent[i, j, char_indices[char]] = 1\n",
    "    output_char[i, char_indices[next_chars[i]]] = 1\n",
    "\n",
    "# some validations\n",
    "print(f'shape of input_sent tensor: {input_sent.shape}')\n",
    "print(f'shape of output_char matrix: {output_char.shape}')"
   ]
  },
  {
   "cell_type": "code",
   "execution_count": 5,
   "metadata": {
    "deletable": false,
    "editable": false,
    "scrolled": false,
    "slideshow": {
     "slide_type": "subslide"
    }
   },
   "outputs": [
    {
     "name": "stdout",
     "output_type": "stream",
     "text": [
      "_________________________________________________________________\n",
      "Layer (type)                 Output Shape              Param #   \n",
      "=================================================================\n",
      "input_layer (Dense)          (None, 30, 100)           2800      \n",
      "_________________________________________________________________\n",
      "flatten_2 (Flatten)          (None, 3000)              0         \n",
      "_________________________________________________________________\n",
      "batch_normalization_2 (Batch (None, 3000)              12000     \n",
      "_________________________________________________________________\n",
      "dense_3 (Dense)              (None, 70)                210070    \n",
      "_________________________________________________________________\n",
      "dropout_3 (Dropout)          (None, 70)                0         \n",
      "_________________________________________________________________\n",
      "dense_4 (Dense)              (None, 50)                3550      \n",
      "_________________________________________________________________\n",
      "dropout_4 (Dropout)          (None, 50)                0         \n",
      "_________________________________________________________________\n",
      "output_layer (Dense)         (None, 27)                1377      \n",
      "=================================================================\n",
      "Total params: 229,797\n",
      "Trainable params: 223,797\n",
      "Non-trainable params: 6,000\n",
      "_________________________________________________________________\n"
     ]
    }
   ],
   "source": [
    "from keras.models import Sequential\n",
    "from keras.engine.input_layer import Input\n",
    "from keras.layers import Flatten, Dense, BatchNormalization, Dropout\n",
    "\n",
    "model = Sequential()\n",
    "model.add(Dense(100, input_shape=(SEQUENCE_LENGTH, len(chars)), activation='relu', name='input_layer'))\n",
    "model.add(Flatten())\n",
    "model.add(BatchNormalization())\n",
    "model.add(Dense(70, activation='relu'))\n",
    "model.add(Dropout(0.3))\n",
    "model.add(Dense(50, activation='relu'))\n",
    "model.add(Dropout(0.1))\n",
    "model.add(Dense(len(chars), activation='softmax', name='output_layer'))\n",
    "\n",
    "model.summary()"
   ]
  },
  {
   "cell_type": "code",
   "execution_count": 6,
   "metadata": {
    "slideshow": {
     "slide_type": "subslide"
    }
   },
   "outputs": [],
   "source": [
    "# we will use few tricks\n",
    "from keras.callbacks import EarlyStopping, ReduceLROnPlateau\n",
    "\n",
    "early_stop = EarlyStopping(patience=5)\n",
    "reduce_lr = ReduceLROnPlateau(factor=0.2, patience=3, verbose=1)\n",
    "callbacks = [early_stop, reduce_lr]"
   ]
  },
  {
   "cell_type": "code",
   "execution_count": null,
   "metadata": {
    "deletable": false,
    "editable": false,
    "run_control": {
     "frozen": true
    },
    "scrolled": true,
    "slideshow": {
     "slide_type": "subslide"
    }
   },
   "outputs": [],
   "source": [
    "# Train \n",
    "model.compile(loss='categorical_crossentropy', optimizer='adam', metrics=['accuracy'])\n",
    "history = model.fit(input_sent, output_char, validation_split=0.1, batch_size=64, epochs=50, callbacks=callbacks, shuffle=True)"
   ]
  },
  {
   "cell_type": "code",
   "execution_count": null,
   "metadata": {
    "deletable": false,
    "editable": false,
    "run_control": {
     "frozen": true
    },
    "slideshow": {
     "slide_type": "subslide"
    }
   },
   "outputs": [],
   "source": [
    "#save model and its history\n",
    "model.save('models/predictive_keyboard_v2.h5')\n",
    "pickle.dump(history.history, open('models/history_pk_v2.p', 'wb'))"
   ]
  },
  {
   "cell_type": "code",
   "execution_count": 7,
   "metadata": {
    "deletable": false,
    "editable": false,
    "slideshow": {
     "slide_type": "fragment"
    }
   },
   "outputs": [],
   "source": [
    "# load model back again\n",
    "from keras.models import load_model\n",
    "model = load_model('models/predictive_keyboard_v2.h5')\n",
    "history = pickle.load(open(\"models/history_pk_v2.p\", \"rb\"))"
   ]
  },
  {
   "cell_type": "code",
   "execution_count": 8,
   "metadata": {
    "scrolled": true,
    "slideshow": {
     "slide_type": "subslide"
    }
   },
   "outputs": [
    {
     "data": {
      "image/png": "[encoded data removed]",
      "text/plain": [
       "<Figure size 432x288 with 1 Axes>"
      ]
     },
     "metadata": {
      "needs_background": "light"
     },
     "output_type": "display_data"
    }
   ],
   "source": [
    "import matplotlib.pyplot as plt\n",
    "%matplotlib inline\n",
    "# plot accuracy\n",
    "plt.plot(history['acc'])\n",
    "plt.plot(history['val_acc'])\n",
    "plt.title('model accuracy')\n",
    "plt.ylabel('accuracy')\n",
    "plt.xlabel('epoch')\n",
    "plt.legend(['train', 'test'], loc='upper left');"
   ]
  },
  {
   "cell_type": "code",
   "execution_count": 9,
   "metadata": {
    "slideshow": {
     "slide_type": "subslide"
    }
   },
   "outputs": [
    {
     "name": "stdout",
     "output_type": "stream",
     "text": [
      "number of test sentences: 16657\n",
      "2nd sentence: position to some one or someth\n",
      "char after 2nd sentence: i\n",
      "3rd sentence: ition to some one or something\n"
     ]
    }
   ],
   "source": [
    "# Prepare test data\n",
    "test_data = text8_data[-50000:]\n",
    "test_sentences = []\n",
    "test_chars = []\n",
    "for i in range(0, len(test_data)-SEQUENCE_LENGTH, STEP):\n",
    "    test_sentences.append(test_data[i:i+SEQUENCE_LENGTH])\n",
    "    test_chars.append(test_data[i+SEQUENCE_LENGTH])\n",
    "\n",
    "print(f'number of test sentences: {len(test_sentences)}')\n",
    "print(f'2nd sentence: {test_sentences[2]}')\n",
    "print(f'char after 2nd sentence: {test_chars[2]}')\n",
    "print(f'3rd sentence: {test_sentences[3]}')"
   ]
  },
  {
   "cell_type": "code",
   "execution_count": 10,
   "metadata": {
    "slideshow": {
     "slide_type": "subslide"
    }
   },
   "outputs": [
    {
     "name": "stderr",
     "output_type": "stream",
     "text": [
      "16657it [00:00, 170453.24it/s]"
     ]
    },
    {
     "name": "stdout",
     "output_type": "stream",
     "text": [
      "shape of input_sent tensor: (16657, 30, 27)\n",
      "shape of output_char matrix: (16657, 27)\n"
     ]
    },
    {
     "name": "stderr",
     "output_type": "stream",
     "text": [
      "\n"
     ]
    }
   ],
   "source": [
    "# prepare test input\n",
    "test_input = np.zeros((len(test_sentences), SEQUENCE_LENGTH, len(chars)), dtype=np.bool)\n",
    "test_label = np.zeros((len(test_sentences), len(chars)), dtype=np.bool)\n",
    "for i, sentence in tqdm(enumerate(test_sentences)):\n",
    "    for j, char in enumerate(sentence):\n",
    "        test_input[i, j, char_indices[char]] = 1\n",
    "    test_label[i, char_indices[next_chars[i]]] = 1\n",
    "\n",
    "# some validations\n",
    "print(f'shape of input_sent tensor: {test_input.shape}')\n",
    "print(f'shape of output_char matrix: {test_label.shape}')"
   ]
  },
  {
   "cell_type": "code",
   "execution_count": 12,
   "metadata": {
    "slideshow": {
     "slide_type": "slide"
    }
   },
   "outputs": [
    {
     "name": "stdout",
     "output_type": "stream",
     "text": [
      "16657/16657 [==============================] - 1s 33us/step\n"
     ]
    },
    {
     "data": {
      "text/plain": [
       "[4.705389934305513, 0.0864501410863004]"
      ]
     },
     "execution_count": 12,
     "metadata": {},
     "output_type": "execute_result"
    }
   ],
   "source": [
    "model.evaluate(test_input, test_label)"
   ]
  },
  {
   "cell_type": "code",
   "execution_count": 13,
   "metadata": {
    "slideshow": {
     "slide_type": "slide"
    }
   },
   "outputs": [],
   "source": [
    "# Post processing\n",
    "import heapq\n",
    "\n",
    "\n",
    "def prepare_input(text):\n",
    "    x = np.zeros((1, SEQUENCE_LENGTH, len(chars)))\n",
    "    for i, char in enumerate(text):\n",
    "        x[0, i, char_indices[char]] = 1.\n",
    "        \n",
    "    return x\n",
    "\n",
    "def sample(preds, top_n=3):\n",
    "    preds = np.asarray(preds).astype('float64')\n",
    "    preds = np.log(preds)\n",
    "    exp_preds = np.exp(preds)\n",
    "    preds = exp_preds / np.sum(exp_preds)\n",
    "    \n",
    "    return heapq.nlargest(top_n, range(len(preds)), preds.take)"
   ]
  },
  {
   "cell_type": "code",
   "execution_count": 14,
   "metadata": {
    "slideshow": {
     "slide_type": "subslide"
    }
   },
   "outputs": [],
   "source": [
    "def predict_completion(text):\n",
    "    original_text = text\n",
    "    generated = text\n",
    "    completion = ''\n",
    "    while True:\n",
    "        x = prepare_input(text)\n",
    "        preds = model.predict(x, verbose=0)[0]\n",
    "        next_index = sample(preds, top_n=1)[0]\n",
    "        next_char = indices_char[next_index]\n",
    "        text = text[1:] + next_char\n",
    "        completion += next_char\n",
    "        \n",
    "        if len(original_text + completion) + 2 > len(original_text) and next_char == ' ':\n",
    "            return completion\n",
    "\n",
    "def predict_completions(text, n=3):\n",
    "    x = prepare_input(text)\n",
    "    preds = model.predict(x, verbose=0)[0]\n",
    "    next_indices = sample(preds, n)\n",
    "    return [indices_char[idx] + predict_completion(text[1:] + indices_char[idx]) for idx in next_indices]"
   ]
  },
  {
   "cell_type": "code",
   "execution_count": 16,
   "metadata": {
    "slideshow": {
     "slide_type": "subslide"
    }
   },
   "outputs": [
    {
     "name": "stdout",
     "output_type": "stream",
     "text": [
      "he told us a very exciting adv\n",
      "['er ', 'iction ', 'and ', 'o ', ' the ']\n",
      "\n",
      "she wrote him a long letter bu\n",
      "['t ', 'lth ', 'ch ', 'stre ', 'reation ']\n",
      "\n",
      "the sky is clear black with sh\n",
      "['e ', 'at ', 'is ', 'owed ', 're ']\n",
      "\n",
      "i am counting my calories yet \n",
      "['and ', 'the ', 'of ', 'in ', 'seven ']\n",
      "\n",
      "we need to rent a room for our\n",
      "[' and ', 'ned ', 's ', 'ous ', 'an ']\n",
      "\n"
     ]
    }
   ],
   "source": [
    "# Test model\n",
    "test_sent = [\"He told us a very exciting adventure story\",\n",
    "             \"She wrote him a long letter but he did not read it\",\n",
    "             \"The sky is clear black with shining stars\",\n",
    "             \"I am counting my calories yet I really want dessert\",\n",
    "             \"We need to rent a room for our party\"\n",
    "            ]\n",
    "for sent in  test_sent:\n",
    "    sent_4_NN = sent[:30].lower()\n",
    "    print(sent_4_NN)\n",
    "    print(predict_completions(sent_4_NN, 5))\n",
    "    print()"
   ]
  },
  {
   "cell_type": "markdown",
   "metadata": {
    "slideshow": {
     "slide_type": "slide"
    }
   },
   "source": [
    "## What's else can be improved"
   ]
  },
  {
   "cell_type": "markdown",
   "metadata": {
    "slideshow": {
     "slide_type": "fragment"
    }
   },
   "source": [
    "* Can we predict next character without having knowledge of what came before.\n"
   ]
  },
  {
   "cell_type": "markdown",
   "metadata": {
    "slideshow": {
     "slide_type": "fragment"
    }
   },
   "source": [
    "* Does sequence matter in this case?"
   ]
  },
  {
   "cell_type": "markdown",
   "metadata": {
    "slideshow": {
     "slide_type": "slide"
    }
   },
   "source": [
    "## Enter Recurrent Neural Networks(RNN)\n",
    "\n",
    "#### Limitations of Vanilla NN (Or even ConvNet)\n",
    "* They accept a fixed-sized vector as input and produce a fixed-sized vector as output.\n",
    "* These models perform mapping using a fixed amount of computational steps."
   ]
  },
  {
   "cell_type": "markdown",
   "metadata": {
    "slideshow": {
     "slide_type": "subslide"
    }
   },
   "source": [
    "In contrast RNN can be used to process sequential data.\n",
    "Some common use cases:\n",
    "![rnn use case](images/RNN_usecase.jpeg)"
   ]
  },
  {
   "cell_type": "markdown",
   "metadata": {
    "slideshow": {
     "slide_type": "subslide"
    }
   },
   "source": [
    "#### Even non-sequence data can be processed in sequence\n",
    "\n",
    "<table><tr><td><img src='images/rnn_housenumbers.gif'></td><td><img src='images/house_generate.gif'></td></tr></table>"
   ]
  },
  {
   "cell_type": "markdown",
   "metadata": {
    "slideshow": {
     "slide_type": "slide"
    }
   },
   "source": [
    "## So how RNN work\n",
    "\n",
    "* Simple, it takes input tensor `x` and returns output tensor `y`.\n",
    "* Output tensor’s contents are influenced not only by the input you just fed in, but also on the entire history of inputs you’ve fed in the past. "
   ]
  },
  {
   "cell_type": "markdown",
   "metadata": {
    "slideshow": {
     "slide_type": "subslide"
    }
   },
   "source": [
    "So if RNN is a class, then it has only one method, let's say `step`\n",
    "Then output `y` can be:\n",
    "```\n",
    "rnn = RNN()\n",
    "y = rnn.step(x) # x is an input vector, y is the RNN's output vector\n",
    "```\n"
   ]
  },
  {
   "cell_type": "markdown",
   "metadata": {
    "slideshow": {
     "slide_type": "subslide"
    }
   },
   "source": [
    "##### Where step function is defined as:\n",
    "```\n",
    "class RNN:\n",
    "  # ...\n",
    "  def step(self, x):\n",
    "    # update the hidden state\n",
    "    self.h = np.tanh(np.dot(self.W_hh, self.h) + np.dot(self.W_xh, x))\n",
    "    # compute the output vector\n",
    "    y = np.dot(self.W_hy, self.h)\n",
    "    return y\n",
    "```"
   ]
  },
  {
   "cell_type": "markdown",
   "metadata": {
    "slideshow": {
     "slide_type": "subslide"
    }
   },
   "source": [
    "##### And if you want to go deep\n",
    "```\n",
    "y1 = rnn1.step(x)\n",
    "y = rnn2.step(y1)\n",
    "```"
   ]
  },
  {
   "cell_type": "markdown",
   "metadata": {
    "slideshow": {
     "slide_type": "subslide"
    }
   },
   "source": [
    "##### And here is an example:\n",
    "![charlevellm](images/charlevellm.jpeg)"
   ]
  },
  {
   "cell_type": "markdown",
   "metadata": {
    "slideshow": {
     "slide_type": "subslide"
    }
   },
   "source": [
    "## Problems:\n",
    " * Simple RNN suffer from 2 problems:\n",
    "     - Vanishing gradient\n",
    "     - Exploding gradient"
   ]
  },
  {
   "cell_type": "markdown",
   "metadata": {
    "slideshow": {
     "slide_type": "fragment"
    }
   },
   "source": [
    "* To resolve these problems, 2 commonly used variants of RNN cells are\n",
    "    - LSTM (Long Short Term Memory)\n",
    "    - GRU (Gated Recurrent Unit)\n",
    "    \n",
    "    "
   ]
  },
  {
   "cell_type": "markdown",
   "metadata": {
    "slideshow": {
     "slide_type": "slide"
    }
   },
   "source": [
    "![lstm architecture](images/LSTMarchitecture.png)"
   ]
  },
  {
   "cell_type": "markdown",
   "metadata": {
    "slideshow": {
     "slide_type": "subslide"
    }
   },
   "source": [
    "\n",
    "![lstm equations](images/lstmequations.jpg)"
   ]
  },
  {
   "cell_type": "markdown",
   "metadata": {
    "slideshow": {
     "slide_type": "subslide"
    }
   },
   "source": [
    "#### Has mostly 3 gates:\n",
    "* Forget gate\n",
    "* Memory gate\n",
    "* Output gate"
   ]
  },
  {
   "cell_type": "markdown",
   "metadata": {
    "slideshow": {
     "slide_type": "subslide"
    }
   },
   "source": [
    "#### Ok, let's consider this image\n",
    "![deeplstm](images/deeplstm.png)"
   ]
  },
  {
   "cell_type": "markdown",
   "metadata": {
    "slideshow": {
     "slide_type": "slide"
    }
   },
   "source": [
    "## GRU\n",
    "\n",
    "![gru architecture](images/GRUarchitecture.png)"
   ]
  },
  {
   "cell_type": "markdown",
   "metadata": {
    "slideshow": {
     "slide_type": "subslide"
    }
   },
   "source": [
    "### GRU has 2 gates\n",
    "* Update gate\n",
    "* Reset gate <br/>\n",
    "Therefore, less parameters to train."
   ]
  },
  {
   "cell_type": "markdown",
   "metadata": {
    "slideshow": {
     "slide_type": "slide"
    }
   },
   "source": [
    "## So now version 3"
   ]
  },
  {
   "cell_type": "code",
   "execution_count": 17,
   "metadata": {
    "deletable": false,
    "editable": false,
    "slideshow": {
     "slide_type": "subslide"
    }
   },
   "outputs": [
    {
     "name": "stdout",
     "output_type": "stream",
     "text": [
      "_________________________________________________________________\n",
      "Layer (type)                 Output Shape              Param #   \n",
      "=================================================================\n",
      "input_layer (LSTM)           (None, 30, 150)           106800    \n",
      "_________________________________________________________________\n",
      "batch_normalization_3 (Batch (None, 30, 150)           600       \n",
      "_________________________________________________________________\n",
      "dropout_5 (Dropout)          (None, 30, 150)           0         \n",
      "_________________________________________________________________\n",
      "lstm_1 (LSTM)                (None, 100)               100400    \n",
      "_________________________________________________________________\n",
      "dense_5 (Dense)              (None, 100)               10100     \n",
      "_________________________________________________________________\n",
      "dropout_6 (Dropout)          (None, 100)               0         \n",
      "_________________________________________________________________\n",
      "dense_6 (Dense)              (None, 40)                4040      \n",
      "_________________________________________________________________\n",
      "batch_normalization_4 (Batch (None, 40)                160       \n",
      "_________________________________________________________________\n",
      "output_layer (Dense)         (None, 27)                1107      \n",
      "=================================================================\n",
      "Total params: 223,207\n",
      "Trainable params: 222,827\n",
      "Non-trainable params: 380\n",
      "_________________________________________________________________\n"
     ]
    }
   ],
   "source": [
    "from keras.layers import LSTM\n",
    "\n",
    "model = Sequential()\n",
    "model.add(LSTM(150, input_shape=(SEQUENCE_LENGTH, len(chars)), name='input_layer', return_sequences=True))\n",
    "model.add(BatchNormalization())\n",
    "model.add(Dropout(0.3))\n",
    "model.add(LSTM(100))\n",
    "model.add(Dense(100, activation='relu'))\n",
    "model.add(Dropout(0.3))\n",
    "model.add(Dense(40, activation='relu'))\n",
    "model.add(BatchNormalization())\n",
    "model.add(Dense(len(chars), activation='softmax', name='output_layer'))\n",
    "\n",
    "model.summary()"
   ]
  },
  {
   "cell_type": "code",
   "execution_count": null,
   "metadata": {
    "deletable": false,
    "editable": false,
    "run_control": {
     "frozen": true
    },
    "scrolled": true,
    "slideshow": {
     "slide_type": "subslide"
    }
   },
   "outputs": [],
   "source": [
    "# Train\n",
    "model.compile(loss='categorical_crossentropy', optimizer='adam', metrics=['accuracy'])\n",
    "history = model.fit(input_sent, output_char, validation_split=0.1, batch_size=64, epochs=50, callbacks=callbacks, shuffle=True)"
   ]
  },
  {
   "cell_type": "code",
   "execution_count": null,
   "metadata": {
    "deletable": false,
    "editable": false,
    "run_control": {
     "frozen": true
    },
    "slideshow": {
     "slide_type": "subslide"
    }
   },
   "outputs": [],
   "source": [
    "#save model and its history\n",
    "model.save('models/predictive_keyboard_v3.h5')\n",
    "pickle.dump(history.history, open('models/history_pk_v3.p', 'wb'))"
   ]
  },
  {
   "cell_type": "code",
   "execution_count": 18,
   "metadata": {
    "deletable": false,
    "editable": false,
    "slideshow": {
     "slide_type": "subslide"
    }
   },
   "outputs": [],
   "source": [
    "# Load model\n",
    "model = load_model('models/predictive_keyboard_v3.h5')\n",
    "history = pickle.load(open(\"models/history_pk_v3.p\", \"rb\"))"
   ]
  },
  {
   "cell_type": "code",
   "execution_count": 19,
   "metadata": {
    "slideshow": {
     "slide_type": "subslide"
    }
   },
   "outputs": [
    {
     "data": {
      "image/png": "[encoded data removed]",
      "text/plain": [
       "<Figure size 432x288 with 1 Axes>"
      ]
     },
     "metadata": {
      "needs_background": "light"
     },
     "output_type": "display_data"
    }
   ],
   "source": [
    "# Plot accuracy\n",
    "plt.plot(history['acc'])\n",
    "plt.plot(history['val_acc'])\n",
    "plt.title('model accuracy')\n",
    "plt.ylabel('accuracy')\n",
    "plt.xlabel('epoch')\n",
    "plt.legend(['train', 'test'], loc='upper left');"
   ]
  },
  {
   "cell_type": "code",
   "execution_count": 21,
   "metadata": {
    "scrolled": false,
    "slideshow": {
     "slide_type": "subslide"
    }
   },
   "outputs": [
    {
     "name": "stdout",
     "output_type": "stream",
     "text": [
      "16657/16657 [==============================] - 4s 269us/step\n"
     ]
    },
    {
     "data": {
      "text/plain": [
       "[5.595765549101563, 0.08110704208530355]"
      ]
     },
     "execution_count": 21,
     "metadata": {},
     "output_type": "execute_result"
    }
   ],
   "source": [
    "# Evaluate model\n",
    "model.evaluate(test_input, test_label)"
   ]
  },
  {
   "cell_type": "code",
   "execution_count": 33,
   "metadata": {
    "slideshow": {
     "slide_type": "subslide"
    }
   },
   "outputs": [
    {
     "name": "stdout",
     "output_type": "stream",
     "text": [
      "he told us a very exciting adv\n",
      "['ance ', 'ice ', 'ent ', 'ocate ', 'ustion ']\n",
      "\n",
      "she wrote him a long letter bu\n",
      "['t ', 'sh ', 'reau ', 'ild ', 'nder ']\n",
      "\n",
      "the sky is clear black with sh\n",
      "['e ', 'ow ', 'are ', 'ip ', 'ure ']\n",
      "\n",
      "i am counting my calories yet \n",
      "['and ', 'the ', 'second ', 'one ', 'in ']\n",
      "\n",
      "i saw sky and that was color b\n",
      "['y ', 'ecause ', 'ut ', 'oth ', 'ased ']\n",
      "\n"
     ]
    }
   ],
   "source": [
    "# Test model\n",
    "test_sent = [\"He told us a very exciting adventure story\",\n",
    "             \"She wrote him a long letter but he did not read it\",\n",
    "             \"The sky is clear black with shining stars\",\n",
    "             \"I am counting my calories yet I really want dessert\",\n",
    "             \"I saw sky and that was color blue\"\n",
    "            ]\n",
    "for sent in  test_sent:\n",
    "    sent_4_NN = sent[:30].lower()\n",
    "    print(sent_4_NN)\n",
    "    print(predict_completions(sent_4_NN, 5))\n",
    "    print()\n",
    "\n",
    "    "
   ]
  }
 ],
 "metadata": {
  "kernelspec": {
   "display_name": "Python 3",
   "language": "python",
   "name": "python3"
  },
  "language_info": {
   "codemirror_mode": {
    "name": "ipython",
    "version": 3
   },
   "file_extension": ".py",
   "mimetype": "text/x-python",
   "name": "python",
   "nbconvert_exporter": "python",
   "pygments_lexer": "ipython3",
   "version": "3.6.6"
  }
 },
 "nbformat": 4,
 "nbformat_minor": 2
}
